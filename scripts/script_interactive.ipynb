{
 "cells": [
  {
   "cell_type": "code",
   "execution_count": 1,
   "id": "7ece1433",
   "metadata": {},
   "outputs": [],
   "source": [
    "import os\n",
    "import numpy as np\n",
    "import cv2\n",
    "from yolo_processor import Processor\n",
    "from CLIP import ZeroShot\n",
    "import matplotlib.pyplot as plt\n",
    "import ipywidgets as widgets\n",
    "from IPython.display import display, clear_output\n",
    "import io\n",
    "from PIL import Image\n",
    "\n",
    "os.environ[\"KMP_DUPLICATE_LIB_OK\"] = \"TRUE\""
   ]
  },
  {
   "cell_type": "code",
   "execution_count": 2,
   "id": "06f9abd1",
   "metadata": {},
   "outputs": [
    {
     "name": "stdout",
     "output_type": "stream",
     "text": [
      "Use device: cpu\n",
      "c:\\Users\\a\\Desktop\\CV-rare-animal\\weights\\fine-tuned\\fin_model(5).pt\n",
      "<class 'dict'>\n",
      "Fine-tuned model loaded from c:\\Users\\a\\Desktop\\CV-rare-animal\\weights\\fine-tuned\\fin_model(5).pt\n",
      "Text features for shot ready.\n"
     ]
    }
   ],
   "source": [
    "yolo = Processor(model_path=\"yolo11n.pt\")\n",
    "clip_checker = ZeroShot(saved_model_file_name = \"fin_model(5).pt\")\n",
    "#proj_path = os.path.abspath(os.path.join(os.getcwd(), '..'))"
   ]
  },
  {
   "cell_type": "code",
   "execution_count": 3,
   "id": "9544a6c1",
   "metadata": {},
   "outputs": [],
   "source": [
    "upload = widgets.FileUpload(accept='.jpg,.jpeg,.png', multiple=False)\n",
    "process_button = widgets.Button(description=\"Apply Detection\", button_style='success')\n",
    "reset_button = widgets.Button(description=\"Reset\", button_style='danger')\n",
    "output = widgets.Output()\n",
    "\n",
    "img = None\n",
    "def show_image():\n",
    "    with output:\n",
    "        clear_output(wait=False)\n",
    "        rgb_img = cv2.cvtColor(img, cv2.COLOR_BGR2RGB)\n",
    "        fig, ax = plt.subplots(1, 2, figsize=(12, 7))\n",
    "        ax[0].imshow(rgb_img)\n",
    "        ax[0].set_title(\"Original image\")\n",
    "        ax[0].axis('off')\n",
    "        ax[1].axis('off')\n",
    "        plt.tight_layout()\n",
    "        plt.show()\n",
    "\n",
    "def image_upload(change):\n",
    "    global img\n",
    "    if upload.value:\n",
    "        content = list(upload.value.values())[0]['content']\n",
    "        img = cv2.imdecode(np.frombuffer(content, np.uint8), cv2.IMREAD_COLOR)\n",
    "        show_image()\n",
    "\n",
    "def apply_process(b):\n",
    "    global img\n",
    "    if img is None:\n",
    "        with output:\n",
    "            clear_output()\n",
    "            print(\"No image uploaded.\")\n",
    "        return\n",
    "\n",
    "    detections, out_frame = yolo.run(img)\n",
    "    is_rare = False\n",
    "    message = \"No animal found\"\n",
    "    res_image = img.copy()\n",
    "    is_animal = False\n",
    "    for det in detections:\n",
    "        is_animal = True\n",
    "        x1, y1, x2, y2 = det[\"bbox\"]\n",
    "        crop = det[\"crop\"]\n",
    "        results = clip_checker.classify_image(crop)\n",
    "        top_res = results[0]\n",
    "        label = top_res[\"label\"]\n",
    "        score = float(top_res[\"confidence\"])\n",
    "\n",
    "        if score > 0.3:\n",
    "            color = (255, 255, 0)\n",
    "            is_rare = True\n",
    "            message = \"Rare animal: \" + label\n",
    "        else:\n",
    "            color = (0, 255, 0)\n",
    "            label = \"Normal\"\n",
    "            message = \"No rare animal found\"\n",
    "\n",
    "        if (is_animal):\n",
    "            if (is_rare):\n",
    "                res_image = out_frame.copy()\n",
    "        cv2.rectangle(res_image, (x1, y1), (x2, y2), color, 2)\n",
    "        cv2.putText(res_image, label, (x1 + 5, y1 + 15), cv2.FONT_HERSHEY_SIMPLEX, 0.4, color, 1)\n",
    "    \n",
    "    with output:\n",
    "        clear_output(wait=False)\n",
    "        rgb_img = cv2.cvtColor(img, cv2.COLOR_BGR2RGB)\n",
    "        fig, ax = plt.subplots(1, 2, figsize=(12, 7))\n",
    "        ax[0].imshow(rgb_img)\n",
    "        ax[0].set_title(\"Original image\")\n",
    "        ax[0].axis('off')\n",
    "        ax[1].imshow(res_image)\n",
    "        ax[1].set_title(message)\n",
    "        ax[1].axis('off')\n",
    "        plt.tight_layout()\n",
    "        plt.show()\n",
    "\n",
    "def reset_all(b):\n",
    "    global img\n",
    "    upload.value.clear()\n",
    "    upload._counter = 0\n",
    "    img = None\n",
    "    with output:\n",
    "        clear_output()\n",
    "\n",
    "\n"
   ]
  },
  {
   "cell_type": "code",
   "execution_count": 4,
   "id": "a7ea0e45",
   "metadata": {},
   "outputs": [
    {
     "data": {
      "application/vnd.jupyter.widget-view+json": {
       "model_id": "9a5714827c79489f9dd5a72e6da804a7",
       "version_major": 2,
       "version_minor": 0
      },
      "text/plain": [
       "HTML(value='<h3>Simple proj</h3>')"
      ]
     },
     "metadata": {},
     "output_type": "display_data"
    },
    {
     "data": {
      "application/vnd.jupyter.widget-view+json": {
       "model_id": "a0e4409b675a489b904812e0e06bf0e9",
       "version_major": 2,
       "version_minor": 0
      },
      "text/plain": [
       "VBox(children=(FileUpload(value={}, accept='.jpg,.jpeg,.png', description='Upload'), Output(), HBox(children=(…"
      ]
     },
     "metadata": {},
     "output_type": "display_data"
    }
   ],
   "source": [
    "upload.observe(image_upload, names='value')\n",
    "display(widgets.HTML(\"<h3>Simple proj</h3>\"))\n",
    "process_button.on_click(apply_process)\n",
    "reset_button.on_click(reset_all)\n",
    "low_col = widgets.HBox([process_button, reset_button])\n",
    "# Display interface\n",
    "display(widgets.VBox([upload, output, low_col]))"
   ]
  }
 ],
 "metadata": {
  "kernelspec": {
   "display_name": "base",
   "language": "python",
   "name": "python3"
  },
  "language_info": {
   "codemirror_mode": {
    "name": "ipython",
    "version": 3
   },
   "file_extension": ".py",
   "mimetype": "text/x-python",
   "name": "python",
   "nbconvert_exporter": "python",
   "pygments_lexer": "ipython3",
   "version": "3.12.7"
  }
 },
 "nbformat": 4,
 "nbformat_minor": 5
}
